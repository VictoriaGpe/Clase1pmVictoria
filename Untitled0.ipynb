{
  "nbformat": 4,
  "nbformat_minor": 0,
  "metadata": {
    "colab": {
      "provenance": [],
      "authorship_tag": "ABX9TyNjT5H7jWSNKt2PCdroZviP",
      "include_colab_link": true
    },
    "kernelspec": {
      "name": "python3",
      "display_name": "Python 3"
    },
    "language_info": {
      "name": "python"
    }
  },
  "cells": [
    {
      "cell_type": "markdown",
      "metadata": {
        "id": "view-in-github",
        "colab_type": "text"
      },
      "source": [
        "<a href=\"https://colab.research.google.com/github/VictoriaGpe/Clase1pmVictoria/blob/main/Untitled0.ipynb\" target=\"_parent\"><img src=\"https://colab.research.google.com/assets/colab-badge.svg\" alt=\"Open In Colab\"/></a>"
      ]
    },
    {
      "cell_type": "code",
      "execution_count": 8,
      "metadata": {
        "colab": {
          "base_uri": "https://localhost:8080/"
        },
        "id": "ZZkjiqjWkTDy",
        "outputId": "21ea5cf4-83ed-4720-ade3-b01ce0e1ab26"
      },
      "outputs": [
        {
          "output_type": "stream",
          "name": "stdout",
          "text": [
            "1-¿Cual es la función de la memoria secundaria en una computadora? Respuesta:c\n",
            "2-¿Que es un programa? Respuesta:son las instrucciones escritas en lenguaje de programación para que una computadora lo pueda leer y hacer\n",
            "3-¿Cual es la diferencia entre un compilador y un interprete? Respuesta:El compilador traduce el programa antes de ejecutarlo y el interprete traduce y ejecuta líneapor línea\n",
            "4-¿Cual de los siguientes contiene 'código maquina'? Respuesta:a\n",
            "5-¿Que esta mal en el siguiente codigo? Respuesta: primero esta mal escrito print y solo tiene una comilla \n",
            "6-¿En que lugar del computador queda almacenada una variable como en este caso 'x' después de ejecutar la siguiente linea de Python? X=123 Respuesta:b\n",
            "7-¿Que mostrara en pantalla el siguiente programa? X=43 X=x+1 print(x) Respuesta:b\n",
            "8-Explica cada uno de los siguientes conceptos usando un ejemplo de una capacidad humana: 1.Unidad central de procesamiento 2.Memoria principal 3.Memoria secundaria 4.Dispositivos de entrada 5.Dispositivos de salida\n",
            "Respuesta: 1-cerebro 2-memoria a corto plazo 3-memoria a largo plazo 4-sentidos 5-capacidad de comunicación\n",
            "9-¿Como puedes corregir un 'Error de sintaxis'? Respuesta:normalmente cuando quees ejecutar el problema aparece que tiend mal y solo lo corriges\n"
          ]
        }
      ],
      "source": [
        "print(\"1-¿Cual es la función de la memoria secundaria en una computadora? Respuesta:c\")\n",
        "print(\"2-¿Que es un programa? Respuesta:son las instrucciones escritas en lenguaje de programación para que una computadora lo pueda leer y hacer\")\n",
        "\n",
        "print(\"3-¿Cual es la diferencia entre un compilador y un interprete? Respuesta:El compilador traduce el programa antes de ejecutarlo y el interprete traduce y ejecuta líneapor línea\")\n",
        "\n",
        "print(\"4-¿Cual de los siguientes contiene 'código maquina'? Respuesta:a\")\n",
        "\n",
        "print(\"5-¿Que esta mal en el siguiente codigo? Respuesta: primero esta mal escrito print y solo tiene una comilla \")\n",
        "\n",
        "print(\"6-¿En que lugar del computador queda almacenada una variable como en este caso 'x' después de ejecutar la siguiente linea de Python? X=123 Respuesta:b\")\n",
        "\n",
        "print(\"7-¿Que mostrara en pantalla el siguiente programa? X=43 X=x+1 print(x) Respuesta:b\")\n",
        "\n",
        "print(\"8-Explica cada uno de los siguientes conceptos usando un ejemplo de una capacidad humana: 1.Unidad central de procesamiento 2.Memoria principal 3.Memoria secundaria 4.Dispositivos de entrada 5.Dispositivos de salida\")\n",
        "print(\"Respuesta: 1-cerebro 2-memoria a corto plazo 3-memoria a largo plazo 4-sentidos 5-capacidad de comunicación\")\n",
        "\n",
        "print(\"9-¿Como puedes corregir un 'Error de sintaxis'? Respuesta:normalmente cuando quees ejecutar el problema aparece que tiend mal y solo lo corriges\")"
      ]
    }
  ]
}